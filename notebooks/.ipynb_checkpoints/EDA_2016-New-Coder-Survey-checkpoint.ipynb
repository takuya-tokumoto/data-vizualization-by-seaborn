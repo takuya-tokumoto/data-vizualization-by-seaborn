{
 "cells": [
  {
   "cell_type": "markdown",
   "metadata": {},
   "source": [
    "引用\n",
    "https://qiita.com/shizuma/items/448140c2da10b4616f50\n",
    "https://vaaaaaanquish.hatenablog.com/entry/2017/10/29/181949"
   ]
  },
  {
   "cell_type": "markdown",
   "metadata": {},
   "source": [
    "# 準備"
   ]
  },
  {
   "cell_type": "code",
   "execution_count": null,
   "metadata": {},
   "outputs": [],
   "source": [
    "import numpy as np\n",
    "from numpy.random import randn\n",
    "import pandas as pd\n",
    "from pandas import Series, DataFrame\n",
    "import matplotlib.pyplot as plt\n",
    "import seaborn as sns\n",
    "%matplotlib inline"
   ]
  },
  {
   "cell_type": "code",
   "execution_count": null,
   "metadata": {},
   "outputs": [],
   "source": [
    "plt.rcParams['figure.figsize'] = (10, 8)\n",
    "plt.rcParams['figure.titlesize'] = 16\n",
    "plt.rcParams['figure.titleweight'] = 'bold'\n",
    "plt.rcParams['axes.titlesize'] = 16\n",
    "plt.rcParams['axes.titleweight'] = 'bold'\n",
    "plt.rcParams['axes.labelsize'] = 13\n",
    "plt.rcParams['axes.labelweight'] = 'bold'\n",
    "plt.rcParams['legend.fontsize'] = 12\n",
    "plt.rcParams['xtick.labelsize'] = 12\n",
    "plt.rcParams['ytick.labelsize'] = 12\n",
    "sns.set_style('whitegrid')"
   ]
  },
  {
   "cell_type": "code",
   "execution_count": null,
   "metadata": {
    "collapsed": true
   },
   "outputs": [],
   "source": [
    "survey_df = pd.read_csv(\"../data/input/2016-FCC-New-Coders-Survey-Data.csv\")"
   ]
  },
  {
   "cell_type": "code",
   "execution_count": null,
   "metadata": {},
   "outputs": [],
   "source": [
    "survey_df.head(3)"
   ]
  },
  {
   "cell_type": "code",
   "execution_count": null,
   "metadata": {},
   "outputs": [],
   "source": [
    "for col in survey_df.columns:\n",
    "    print(\"{0} 【{1}】\" .format(col, survey_df[col].dtypes))"
   ]
  },
  {
   "cell_type": "markdown",
   "metadata": {},
   "source": [
    "# 各項目の概観"
   ]
  },
  {
   "cell_type": "markdown",
   "metadata": {},
   "source": [
    "## Gender"
   ]
  },
  {
   "cell_type": "markdown",
   "metadata": {},
   "source": [
    "### countplot\n",
    "- ヒストグラム"
   ]
  },
  {
   "cell_type": "code",
   "execution_count": null,
   "metadata": {},
   "outputs": [],
   "source": [
    "ax = sns.countplot('Gender', data=survey_df)\n",
    "\n",
    "_ = (ax.set_title('Gender distribution'),\n",
    "     ax.set_xlabel('Gender Category'),\n",
    "     ax.set_ylabel('Number of people'),\n",
    "#      ax.set_ylim(0, 200000),\n",
    "#      ax.set_yticks(np.linspace(0, 200000, 11)),\n",
    "    )"
   ]
  },
  {
   "cell_type": "markdown",
   "metadata": {},
   "source": [
    "*単純なヒストグラムならmatplotlibのplt.histが便利<br>\n",
    "（棒グラフを作るplt.barもありますが、データの頻度分布からヒストグラムを作るときはplt.histが楽。)"
   ]
  },
  {
   "cell_type": "code",
   "execution_count": null,
   "metadata": {},
   "outputs": [],
   "source": [
    "dataset = randn(100)\n",
    "plt.hist(dataset)"
   ]
  },
  {
   "cell_type": "markdown",
   "metadata": {},
   "source": [
    "色々なオプションもある"
   ]
  },
  {
   "cell_type": "code",
   "execution_count": null,
   "metadata": {},
   "outputs": [],
   "source": [
    "# normed: 正規化, alpha: 透明度, color: 色, bins: ビン数\n",
    "plt.hist(dataset, normed=True, alpha=0.8, color='indianred', bins=15)"
   ]
  },
  {
   "cell_type": "markdown",
   "metadata": {},
   "source": [
    "## HasChildren"
   ]
  },
  {
   "cell_type": "markdown",
   "metadata": {},
   "source": [
    "### countplot\n",
    "- 子供の有無"
   ]
  },
  {
   "cell_type": "code",
   "execution_count": null,
   "metadata": {},
   "outputs": [],
   "source": [
    "ax = sns.countplot('HasChildren', data=survey_df)\n",
    "\n",
    "_ = (ax.set_title('HasChildren distribution'),\n",
    "     ax.set_xlabel('HasChildren Category'),\n",
    "     ax.set_ylabel('Number of people'),\n",
    "#      ax.set_ylim(0, 200000),\n",
    "#      ax.set_yticks(np.linspace(0, 200000, 11)),\n",
    "    )"
   ]
  },
  {
   "cell_type": "markdown",
   "metadata": {},
   "source": [
    "0か1だと分かりにくいので『子供なし』、『子供あり』にデータを変換"
   ]
  },
  {
   "cell_type": "code",
   "execution_count": null,
   "metadata": {},
   "outputs": [],
   "source": [
    "survey_df['HasChildren'].loc[survey_df['HasChildren'] == 0] = 'No'\n",
    "survey_df['HasChildren'].loc[survey_df['HasChildren'] == 1] = 'Yes'"
   ]
  },
  {
   "cell_type": "code",
   "execution_count": null,
   "metadata": {},
   "outputs": [],
   "source": [
    "sns.countplot('HasChildren', data=survey_df)"
   ]
  },
  {
   "cell_type": "markdown",
   "metadata": {},
   "source": [
    "### map"
   ]
  },
  {
   "cell_type": "markdown",
   "metadata": {},
   "source": [
    "mapを使った変換の方が便利"
   ]
  },
  {
   "cell_type": "code",
   "execution_count": null,
   "metadata": {},
   "outputs": [],
   "source": [
    "# survey_df['HasChildren'] = survey_df['HasChildren'].map({0: 'No', 1: 'Yes'})\n",
    "# sns.countplot('HasChildren', data=survey_df)"
   ]
  },
  {
   "cell_type": "markdown",
   "metadata": {},
   "source": [
    "## EmploymentStatus"
   ]
  },
  {
   "cell_type": "markdown",
   "metadata": {},
   "source": [
    "### countplot"
   ]
  },
  {
   "cell_type": "markdown",
   "metadata": {},
   "source": [
    "雇用形態"
   ]
  },
  {
   "cell_type": "code",
   "execution_count": null,
   "metadata": {},
   "outputs": [],
   "source": [
    "sns.countplot('EmploymentStatus', data=survey_df)"
   ]
  },
  {
   "cell_type": "markdown",
   "metadata": {},
   "source": [
    "軸がごちゃごちゃしているので向きを変えてみる。"
   ]
  },
  {
   "cell_type": "code",
   "execution_count": null,
   "metadata": {},
   "outputs": [],
   "source": [
    "ax = sns.countplot(y='EmploymentStatus', data=survey_df)\n",
    "\n",
    "_ = (ax.set_title('EmploymentStatus distribution'),\n",
    "     ax.set_xlabel('Number of people'),\n",
    "     ax.set_ylabel('EmploymentStatus Category'),\n",
    "#      ax.set_ylim(0, 200000),\n",
    "#      ax.set_yticks(np.linspace(0, 200000, 11)),\n",
    "    )"
   ]
  },
  {
   "cell_type": "markdown",
   "metadata": {},
   "source": [
    "## Age"
   ]
  },
  {
   "cell_type": "markdown",
   "metadata": {},
   "source": [
    "### countplot"
   ]
  },
  {
   "cell_type": "code",
   "execution_count": null,
   "metadata": {},
   "outputs": [],
   "source": [
    "sns.countplot('Age', data=survey_df)"
   ]
  },
  {
   "cell_type": "code",
   "execution_count": null,
   "metadata": {},
   "outputs": [],
   "source": [
    "sns.countplot(y = 'Age', data=survey_df)"
   ]
  },
  {
   "cell_type": "markdown",
   "metadata": {},
   "source": [
    "ごちゃごちゃして見づらい..."
   ]
  },
  {
   "cell_type": "markdown",
   "metadata": {},
   "source": [
    "### kde plot"
   ]
  },
  {
   "cell_type": "markdown",
   "metadata": {},
   "source": [
    "カーネル密度推定 ( kde: kernel density plot ) </br>\n",
    "データ標本から確率密度関数を推定する手法の一つ。</br>\n",
    "正規分布やガンマ分布などを使ったパラメトリックモデルを想定した手法と、カーネル密度推定(Kernel density estimation: KDE)を代表としたノンパラメトリックな推定手法がある。"
   ]
  },
  {
   "cell_type": "code",
   "execution_count": null,
   "metadata": {},
   "outputs": [],
   "source": [
    "sns.kdeplot(survey_df['Age'])"
   ]
  },
  {
   "cell_type": "markdown",
   "metadata": {},
   "source": [
    "- 20代から30代が最頻値\n",
    "- 右に裾野が広がった形状"
   ]
  },
  {
   "cell_type": "markdown",
   "metadata": {},
   "source": [
    "Ageが連続型だと使いにくいのでカテゴリ型に変換してみる。"
   ]
  },
  {
   "cell_type": "code",
   "execution_count": null,
   "metadata": {},
   "outputs": [],
   "source": [
    "survey_df['AgeGroups'] = pd.cut(survey_df.Age, [0, 21, 25, 30, 40, 99], \n",
    "                                 labels=['10-20', '21-24', '25-29', '30-39', '40-86'],\n",
    "                                 right=False)"
   ]
  },
  {
   "cell_type": "code",
   "execution_count": null,
   "metadata": {},
   "outputs": [],
   "source": [
    "ax = survey_df.AgeGroups.value_counts(sort=False).plot(kind='bar', rot=0, figsize=(10,5))\n",
    "\n",
    "_ = (ax.set_title('Age Distribution'),\n",
    "     ax.set_xlabel('Age Groups'),\n",
    "     ax.set_ylabel('Number of Coders'))"
   ]
  },
  {
   "cell_type": "markdown",
   "metadata": {},
   "source": [
    "## Income"
   ]
  },
  {
   "cell_type": "markdown",
   "metadata": {},
   "source": [
    "### kde plot"
   ]
  },
  {
   "cell_type": "code",
   "execution_count": null,
   "metadata": {},
   "outputs": [],
   "source": [
    "sns.kdeplot(survey_df['Income'])"
   ]
  },
  {
   "cell_type": "markdown",
   "metadata": {},
   "source": [
    "- 年収かな？"
   ]
  },
  {
   "cell_type": "markdown",
   "metadata": {},
   "source": [
    "### describe"
   ]
  },
  {
   "cell_type": "code",
   "execution_count": null,
   "metadata": {},
   "outputs": [],
   "source": [
    "survey_df['Income'].describe()"
   ]
  },
  {
   "cell_type": "markdown",
   "metadata": {},
   "source": [
    "### boxplot"
   ]
  },
  {
   "cell_type": "code",
   "execution_count": null,
   "metadata": {},
   "outputs": [],
   "source": [
    "sns.boxplot(survey_df['Income'])"
   ]
  },
  {
   "cell_type": "markdown",
   "metadata": {},
   "source": [
    "左の縦線から順に箱ひげの最小、第一四分位点(Q1)、中央値、第三四分位点（Q3)、箱ひげの最大を表す。</br>\n",
    "IQR = Q3-Q1 として (最小値 - IQR1.5) ~ (最大値 + IQR1.5 ) から外れたものを箱ひげから外れた外れ値として黒の点で表す。"
   ]
  },
  {
   "cell_type": "markdown",
   "metadata": {},
   "source": [
    "外れ値をなしで表現することも可能。"
   ]
  },
  {
   "cell_type": "code",
   "execution_count": null,
   "metadata": {},
   "outputs": [],
   "source": [
    "sns.boxplot(survey_df['Income'], sym=\"\")"
   ]
  },
  {
   "cell_type": "markdown",
   "metadata": {},
   "source": [
    "また、別の変数を仕切りにbox plotを描写することも可能。</br>\n",
    "</br>\n",
    "性別毎のincomeをbox plot。"
   ]
  },
  {
   "cell_type": "code",
   "execution_count": null,
   "metadata": {},
   "outputs": [],
   "source": [
    "sns.boxplot(x=\"Gender\", y=\"Income\", data=survey_df)"
   ]
  },
  {
   "cell_type": "markdown",
   "metadata": {},
   "source": [
    "x, yを入れ替えたり外れ値除去も可能。"
   ]
  },
  {
   "cell_type": "code",
   "execution_count": null,
   "metadata": {},
   "outputs": [],
   "source": [
    "sns.boxplot(y=\"Gender\", x=\"Income\", data=survey_df, sym=\"\")"
   ]
  },
  {
   "cell_type": "markdown",
   "metadata": {},
   "source": [
    "### violinplot"
   ]
  },
  {
   "cell_type": "markdown",
   "metadata": {},
   "source": [
    "boxplotにkdeの情報を持たせたヴァヴィオリンプロットというものもあります。"
   ]
  },
  {
   "cell_type": "code",
   "execution_count": null,
   "metadata": {},
   "outputs": [],
   "source": [
    "sns.violinplot(survey_df['Income'])"
   ]
  },
  {
   "cell_type": "markdown",
   "metadata": {},
   "source": [
    "## HoursLearning\n",
    "学習時間"
   ]
  },
  {
   "cell_type": "code",
   "execution_count": null,
   "metadata": {},
   "outputs": [],
   "source": [
    "sns.kdeplot(survey_df['HoursLearning'])"
   ]
  },
  {
   "cell_type": "markdown",
   "metadata": {},
   "source": [
    "- 1週間の学習量?\n",
    "- 極値が目立つ - きりの良い数字でアンケートに答えている？"
   ]
  },
  {
   "cell_type": "markdown",
   "metadata": {},
   "source": [
    "### distplot"
   ]
  },
  {
   "cell_type": "markdown",
   "metadata": {},
   "source": [
    "データの分布を把握したい際に利用します。</br>\n",
    "countplotとkdeplotの両方を一緒に生成する。"
   ]
  },
  {
   "cell_type": "code",
   "execution_count": null,
   "metadata": {},
   "outputs": [],
   "source": [
    "hours_learning = survey_df['HoursLearning']\n",
    "hours_learning = hours_learning.dropna()\n",
    "sns.distplot(hours_learning)"
   ]
  },
  {
   "cell_type": "markdown",
   "metadata": {},
   "source": [
    "### lmplot"
   ]
  },
  {
   "cell_type": "markdown",
   "metadata": {},
   "source": [
    "散布図によって学習時間と年収に相関があるか確認"
   ]
  },
  {
   "cell_type": "code",
   "execution_count": null,
   "metadata": {},
   "outputs": [],
   "source": [
    "fig = sns.lmplot(data=survey_df, x='HoursLearning', y='Income',\n",
    "                 fit_reg=False, size=9, x_jitter=1, y_jitter=1000,\n",
    "                 scatter_kws={'alpha':0.2})\n",
    "# x_jitter=1, y_jitter=1000　で乱数をつけて可視化しやすくしている\n",
    "\n",
    "_ = (fig.ax.set_title('Expected HoursLearning vs Income'),\n",
    "     fig.ax.set_xlabel('HoursLearning'),\n",
    "     fig.ax.set_ylabel('Income'),\n",
    "#      fig.ax.set_xlim(10, 60.05),\n",
    "#      fig.ax.set_ylim(0, 120000),\n",
    "    )"
   ]
  },
  {
   "cell_type": "markdown",
   "metadata": {},
   "source": [
    "あまりきれいな感じではないが...</br>\n",
    "</br>\n",
    "回帰線も加えてみる。"
   ]
  },
  {
   "cell_type": "code",
   "execution_count": null,
   "metadata": {},
   "outputs": [],
   "source": [
    "fig = sns.lmplot(data=survey_df, x='HoursLearning', y='Income',\n",
    "                 fit_reg=True, size=9, x_jitter=1, y_jitter=1000,\n",
    "                 scatter_kws={'alpha':0.2})\n",
    "\n",
    "_ = (fig.ax.set_title('Expected HoursLearning vs Income'),\n",
    "     fig.ax.set_xlabel('HoursLearning'),\n",
    "     fig.ax.set_ylabel('Income'),\n",
    "#      fig.ax.set_xlim(10, 60.05),\n",
    "#      fig.ax.set_ylim(0, 120000),\n",
    "    )"
   ]
  },
  {
   "cell_type": "markdown",
   "metadata": {},
   "source": [
    "弱い負の相関が見られる。</br>\n",
    "学生のデータも入っているせい?"
   ]
  },
  {
   "cell_type": "markdown",
   "metadata": {},
   "source": [
    "### SchoolMajor"
   ]
  },
  {
   "cell_type": "markdown",
   "metadata": {},
   "source": [
    "離散型なのでcountplotを使います。"
   ]
  },
  {
   "cell_type": "code",
   "execution_count": null,
   "metadata": {},
   "outputs": [],
   "source": [
    "sns.countplot(y='SchoolMajor' , data=survey_df)"
   ]
  },
  {
   "cell_type": "markdown",
   "metadata": {},
   "source": [
    "見にくいです。。カテゴリ数が多すぎるのですね。\n",
    "上位10個くらいが見たいです。"
   ]
  },
  {
   "cell_type": "markdown",
   "metadata": {},
   "source": [
    "### collections.Counter"
   ]
  },
  {
   "cell_type": "markdown",
   "metadata": {},
   "source": [
    "標準ライブラリのcollectionsを使うことでカウントします。</br>\n",
    "さらにmost_common(10)とすることでその中の上位10件を取得することが出来ます。"
   ]
  },
  {
   "cell_type": "code",
   "execution_count": null,
   "metadata": {},
   "outputs": [],
   "source": [
    "from collections import Counter\n",
    "major_count = Counter(survey_df['SchoolMajor'])\n",
    "major_count.most_common(10)"
   ]
  },
  {
   "cell_type": "markdown",
   "metadata": {},
   "source": [
    "グラフに表示"
   ]
  },
  {
   "cell_type": "code",
   "execution_count": null,
   "metadata": {},
   "outputs": [],
   "source": [
    "X = []\n",
    "Y = []\n",
    "major_count_top10 = major_count.most_common(10)\n",
    "for record in major_count_top10:\n",
    "    X.append(record[0])\n",
    "    Y.append(record[1])\n",
    "\n",
    "# [nan, 'Computer Science', 'Information Technology', 'Business Administration', 'Economics', 'Electrical Engineering', 'English', 'Psychology', 'Electrical and Electronics Engineering', 'Software Engineering']\n",
    "# [7170, 1387, 408, 284, 252, 220, 204, 187, 164, 159]\n",
    "\n",
    "# plt.bar() の代わりに plt.barh() を使うと横向き (horizontal) のグラフ\n",
    "plt.barh(np.arange(10), Y)\n",
    "# ラベル追加\n",
    "plt.yticks(np.arange(10), X)"
   ]
  },
  {
   "cell_type": "markdown",
   "metadata": {},
   "source": [
    "- plt.barhを使うとplt.barの軸を変えることが出来る</br>\n",
    "- yticksを使ってラベルもつける</br>\n",
    "さて、nanは表示させたくないですし、逆順に並び替えたいです。"
   ]
  },
  {
   "cell_type": "code",
   "execution_count": null,
   "metadata": {},
   "outputs": [],
   "source": [
    "X = []\n",
    "Y = []\n",
    "major_count_top10 = major_count.most_common(11)\n",
    "major_count_top10.reverse()\n",
    "for record in major_count_top10:\n",
    "    # record[0]にnullが入った場合 falseになる\n",
    "    if pd.notnull(record[0]):\n",
    "        X.append(record[0])\n",
    "        Y.append(record[1])\n",
    "\n",
    "# ['Liberal Arts','Software Engineering', 'Electrical and Electronics Engineering', 'Psychology', 'English', 'Electrical Engineering', 'Economics', 'Business Administration', 'Information Technology', 'Computer Science']\n",
    "# [157, 159, 164, 187, 204, 220, 252, 284, 408, 1387]\n",
    "\n",
    "plt.barh(np.arange(len(Y)), Y)\n",
    "plt.yticks(np.arange(len(X)), X)"
   ]
  },
  {
   "cell_type": "markdown",
   "metadata": {},
   "source": [
    "# データ同士の関連性"
   ]
  },
  {
   "cell_type": "markdown",
   "metadata": {},
   "source": [
    "## Gender と HasChildren"
   ]
  },
  {
   "cell_type": "markdown",
   "metadata": {},
   "source": [
    "まず、Genderは簡単のために男女だけにします。"
   ]
  },
  {
   "cell_type": "code",
   "execution_count": null,
   "metadata": {},
   "outputs": [],
   "source": [
    "male_female_df = survey_df[(survey_df['Gender'] == 'male') | (survey_df['Gender'] == 'female')]"
   ]
  },
  {
   "cell_type": "markdown",
   "metadata": {},
   "source": [
    "countplotのhueを使うことで層別にカウントすることができます。"
   ]
  },
  {
   "cell_type": "markdown",
   "metadata": {},
   "source": [
    "### countplot(hue)"
   ]
  },
  {
   "cell_type": "code",
   "execution_count": null,
   "metadata": {},
   "outputs": [],
   "source": [
    "sns.countplot('Gender', data=male_female_df, hue='HasChildren')"
   ]
  },
  {
   "cell_type": "markdown",
   "metadata": {},
   "source": [
    "## Gender と Age"
   ]
  },
  {
   "cell_type": "markdown",
   "metadata": {},
   "source": [
    "countplot以外のグラフでも層別に表すことが出来ます。FacetGridを使います。"
   ]
  },
  {
   "cell_type": "markdown",
   "metadata": {},
   "source": [
    "### sns.FacetGrid"
   ]
  },
  {
   "cell_type": "code",
   "execution_count": null,
   "metadata": {},
   "outputs": [],
   "source": [
    "fig = sns.FacetGrid(male_female_df, hue='Gender', aspect=4)\n",
    "fig.map(sns.kdeplot, 'Age', shade=True)\n",
    "oldest = male_female_df['Age'].max()\n",
    "fig.set(xlim=(0, oldest))\n",
    "fig.add_legend()"
   ]
  },
  {
   "cell_type": "markdown",
   "metadata": {},
   "source": [
    "- 若干男性のほうが若い側にある"
   ]
  },
  {
   "cell_type": "markdown",
   "metadata": {},
   "source": [
    "## EmploymentStatus と Gender"
   ]
  },
  {
   "cell_type": "markdown",
   "metadata": {},
   "source": [
    "EmploymentStatusは複数あるので上位の数件だけ使う。"
   ]
  },
  {
   "cell_type": "code",
   "execution_count": null,
   "metadata": {},
   "outputs": [],
   "source": [
    "# male_female_dfは survey_dfのGenderを男女に絞ったもの\n",
    "# EmploymentStatusの上位5件を取得\n",
    "from collections import Counter\n",
    "employ_count = Counter(male_female_df['EmploymentStatus'])\n",
    "employ_count_top = employ_count.most_common(5)\n",
    "print(employ_count_top)\n",
    "employ_list =[]\n",
    "\n",
    "for record in employ_count_top:\n",
    "     if pd.notnull(record[0]):\n",
    "        employ_list.append(record[0])\n",
    "\n",
    "def top_employ(status):\n",
    "    return status in employ_list\n",
    "\n",
    "# applyを使ってemploy_listに入った項目の行だけを取得\n",
    "new_survey_df = male_female_df.loc[male_female_df['EmploymentStatus'].apply(top_employ)]\n",
    "\n",
    "sns.countplot(y='EmploymentStatus', data=new_survey_df)"
   ]
  },
  {
   "cell_type": "markdown",
   "metadata": {},
   "source": [
    "これで上位3件の項目だけになりました。</br>\n",
    "countplotのhueを使って男女の層別に見てみます。"
   ]
  },
  {
   "cell_type": "code",
   "execution_count": null,
   "metadata": {},
   "outputs": [],
   "source": [
    "sns.countplot(y='EmploymentStatus', data=new_survey_df, hue='Gender')"
   ]
  },
  {
   "cell_type": "markdown",
   "metadata": {},
   "source": [
    "## EmploymentStatus と HasChildren"
   ]
  },
  {
   "cell_type": "markdown",
   "metadata": {},
   "source": [
    "まず、HasChildrenをNo->0, Yes->1に変換しておきます。"
   ]
  },
  {
   "cell_type": "code",
   "execution_count": null,
   "metadata": {},
   "outputs": [],
   "source": [
    "new_survey_df['HasChildren'] = new_survey_df['HasChildren'].map({'No': 0, 'Yes': 1})"
   ]
  },
  {
   "cell_type": "markdown",
   "metadata": {},
   "source": [
    "ここでfactorplotを使います。EmploymentStatusが子供の有無にどれくらい関わっているか見てみます。"
   ]
  },
  {
   "cell_type": "markdown",
   "metadata": {},
   "source": [
    "### factorplot"
   ]
  },
  {
   "cell_type": "code",
   "execution_count": null,
   "metadata": {},
   "outputs": [],
   "source": [
    "sns.factorplot('EmploymentStatus', 'HasChildren', data=new_survey_df, aspect=2)"
   ]
  },
  {
   "cell_type": "markdown",
   "metadata": {},
   "source": [
    "Emloyed for wagesが少し値が高いですね。これは納得感があります。\n",
    "\n",
    "また、factorplotも層別に見ることが出来るので男女に違いがないか見てみます。"
   ]
  },
  {
   "cell_type": "code",
   "execution_count": null,
   "metadata": {},
   "outputs": [],
   "source": [
    "sns.factorplot('EmploymentStatus',\n",
    "            'HasChildren', \n",
    "            data=new_survey_df, aspect=2, hue='Gender')"
   ]
  },
  {
   "cell_type": "markdown",
   "metadata": {},
   "source": [
    "## Age と HasChildren"
   ]
  },
  {
   "cell_type": "markdown",
   "metadata": {},
   "source": [
    "### lmplot"
   ]
  },
  {
   "cell_type": "markdown",
   "metadata": {},
   "source": [
    "回帰直線で関係を見てみたいと思います。回帰直線には lmplotを使います。"
   ]
  },
  {
   "cell_type": "code",
   "execution_count": null,
   "metadata": {},
   "outputs": [],
   "source": [
    "sns.lmplot('Age', 'HasChildren', data=new_survey_df)"
   ]
  },
  {
   "cell_type": "markdown",
   "metadata": {},
   "source": [
    "さて、lmplotも層別に見ることが出来るのでやってみたいと思います。\n",
    "まずはEmploymentStatusで層別にします。"
   ]
  },
  {
   "cell_type": "code",
   "execution_count": null,
   "metadata": {},
   "outputs": [],
   "source": [
    "sns.lmplot('Age', 'HasChildren', data=new_survey_df, hue='EmploymentStatus')"
   ]
  },
  {
   "cell_type": "markdown",
   "metadata": {},
   "source": [
    "一般には Employed for wagesの値が少し高いですが、前項で見たように男女で分けるともう少しはっきり分かれそうですね。\n",
    "\n",
    "ついでに、Genderでも層別にしておきます。"
   ]
  },
  {
   "cell_type": "code",
   "execution_count": null,
   "metadata": {},
   "outputs": [],
   "source": [
    "sns.lmplot('Age', 'HasChildren', data=new_survey_df, hue='Gender')"
   ]
  },
  {
   "cell_type": "markdown",
   "metadata": {},
   "source": [
    "# Feature Job"
   ]
  },
  {
   "cell_type": "markdown",
   "metadata": {},
   "source": [
    "## countplot"
   ]
  },
  {
   "cell_type": "markdown",
   "metadata": {},
   "source": [
    "ややこしいので男女のみのデータを使用した ⇒ male_female_df"
   ]
  },
  {
   "cell_type": "code",
   "execution_count": null,
   "metadata": {},
   "outputs": [],
   "source": [
    "ax = sns.countplot(data=male_female_df, x='Gender', hue='JobPref')\n",
    "\n",
    "_ = (ax.set_title('Gender vs Job Preference'),\n",
    "     ax.set_xlabel('Number of People'),\n",
    "     ax.set_ylabel('Gender'),\n",
    "    )  "
   ]
  },
  {
   "cell_type": "markdown",
   "metadata": {},
   "source": [
    "中規模の会社で働くことは、両方の性別にとって最も望まれる仕事です。</br>\n",
    "</br>\n",
    "興味深いのは、自分のビジネスを始めることです。</br>\n",
    "</br>\n",
    "- 男性にとって、それは2番目に人気。</br>\n",
    "- 女性にとっては、それは最も望まれていない。"
   ]
  },
  {
   "cell_type": "code",
   "execution_count": null,
   "metadata": {},
   "outputs": [],
   "source": [
    "ax = sns.countplot(data=male_female_df, x='Gender', hue='JobRoleInterest')\n",
    "\n",
    "_ = (ax.set_title('Job Role Interest vs Gender'),\n",
    "     ax.set_xlabel('Number of People'),\n",
    "     ax.set_ylabel('Job Role'),\n",
    "    )"
   ]
  },
  {
   "cell_type": "markdown",
   "metadata": {},
   "source": [
    "フルスタックおよびフロントエンドWeb開発は、最も興味深い職務です。最も面白くないのは品質保証です。</br>\n",
    "</br>\n",
    "女性はSysAdminsになることに関心がありませんが、ユーザーエクスペリエンスデザイナーになることは男性よりも重要です。"
   ]
  },
  {
   "cell_type": "code",
   "execution_count": null,
   "metadata": {},
   "outputs": [],
   "source": [
    "ax = sns.countplot(data=male_female_df, x='JobWherePref', hue='AgeGroups')\n",
    "\n",
    "_ = (ax.set_title('Job Location vs Age'),\n",
    "     ax.set_xlabel('Job Location'),\n",
    "     ax.set_ylabel('Number of People'),\n",
    "    )"
   ]
  },
  {
   "cell_type": "markdown",
   "metadata": {},
   "source": [
    "在宅勤務は年齢が上がるにつれて人気が高まっています。"
   ]
  },
  {
   "cell_type": "markdown",
   "metadata": {},
   "source": [
    "## 複数のグラフを並べて表示する"
   ]
  },
  {
   "cell_type": "markdown",
   "metadata": {},
   "source": [
    "複数のグラフを並べて表示させる方法もあります。subplotsを使って2つのグラフを描画しました。"
   ]
  },
  {
   "cell_type": "code",
   "execution_count": null,
   "metadata": {},
   "outputs": [],
   "source": [
    "fig, (axis1, axis2) = plt.subplots(1, 2, sharey=True)\n",
    "sns.regplot('HasChildren', 'Age', data=new_survey_df, ax=axis1)\n",
    "sns.violinplot(y='Age', x='HasChildren', data=new_survey_df, ax=axis2)"
   ]
  },
  {
   "cell_type": "markdown",
   "metadata": {},
   "source": [
    "regplotというのはlmplotの低レベルバージョンで、単純な回帰を作る上では同じです。</br>\n",
    "regplotsを使ったのはsubplotsで使える関数はmatplotlib Axesオブジェクトを返すものに限られるようでlmplotが使えなかったからです。"
   ]
  },
  {
   "cell_type": "markdown",
   "metadata": {},
   "source": [
    "詳しい説明は\n",
    "Plotting with seaborn using the matplotlib object-oriented interface\n",
    "が分かりやすかったです。\n",
    "\n",
    "この記事でいう \"Axis-level\" functionは使えるようです。\n",
    "(regplot, boxplot, kdeplot, and many others)\n",
    "\n",
    "これに対して \"Figure-level\" functionも紹介されていてその中にlmplotもあります。\n",
    "(lmplot, factorplot, jointplot and one or two others)\n",
    "\n",
    "ほとんどAxisで一部Figureって感じですかね。\n",
    "\n",
    "それでFigureに関してはFacetGridが良いみたいです。\n",
    "Plotting on data-aware grids\n",
    "\n",
    "FacetGridでも複数のグラフを並べられます。\n",
    "Age の分布を EmploymentStatusごとに並べて表示してみました。"
   ]
  },
  {
   "cell_type": "code",
   "execution_count": null,
   "metadata": {},
   "outputs": [],
   "source": [
    "fig = sns.FacetGrid(new_survey_df, col='EmploymentStatus', aspect=1.5)\n",
    "fig.map(sns.distplot, 'Age')\n",
    "oldest = new_survey_df['Age'].max()\n",
    "fig.set(xlim=(0, oldest))\n",
    "fig.add_legend()"
   ]
  },
  {
   "cell_type": "code",
   "execution_count": null,
   "metadata": {},
   "outputs": [],
   "source": []
  }
 ],
 "metadata": {
  "kernelspec": {
   "display_name": "Python 3",
   "language": "python",
   "name": "python3"
  },
  "language_info": {
   "codemirror_mode": {
    "name": "ipython",
    "version": 3
   },
   "file_extension": ".py",
   "mimetype": "text/x-python",
   "name": "python",
   "nbconvert_exporter": "python",
   "pygments_lexer": "ipython3",
   "version": "3.6.7"
  }
 },
 "nbformat": 4,
 "nbformat_minor": 2
}
